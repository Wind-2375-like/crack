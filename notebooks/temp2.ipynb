{
 "cells": [
  {
   "cell_type": "code",
   "execution_count": 2,
   "id": "1433dcbe",
   "metadata": {},
   "outputs": [],
   "source": [
    "import pickle\n",
    "\n",
    "with open('../data/eval_results/code/probe_evaluated/test_100_depth_4_llama-3.2-3b.pkl', 'rb') as f:\n",
    "    data = pickle.load(f)"
   ]
  },
  {
   "cell_type": "code",
   "execution_count": 3,
   "id": "cb4c653b",
   "metadata": {},
   "outputs": [
    {
     "data": {
      "text/plain": [
       "{'id': 1,\n",
       " 'question': 'Given the library random, how can we randomly shuffle the elements of a list in place?',\n",
       " 'answer': 'random.shuffle(x)',\n",
       " 'knowledge': 'Function: random.shuffle(x)\\n\\nDocstring: Shuffle list x in place, and return None.',\n",
       " 'complex_question_id': 0,\n",
       " 'probe_answers': ['```python\\nrandom.shuffle([])\\n```',\n",
       "  '```python\\nrandom.shuffle([])\\n```',\n",
       "  '```python\\nrandom.shuffle([])\\n```',\n",
       "  '```python\\nrandom.shuffle([])\\n```',\n",
       "  '```python\\nrandom.shuffle([])\\n```',\n",
       "  '```python\\nrandom.shuffle([])\\n```',\n",
       "  '```python\\nrandom.shuffle([])\\n```',\n",
       "  '```python\\nrandom.shuffle([])\\n```',\n",
       "  '```python\\nrandom.shuffle([])\\n```',\n",
       "  '```python\\nrandom.shuffle([])\\n```'],\n",
       " 'knowledgable': False,\n",
       " 'knowledge_confidence': 0.0,\n",
       " 'eval_probe_results': {'probe_answers': ['random.shuffle([])',\n",
       "   'random.shuffle([])',\n",
       "   'random.shuffle([])',\n",
       "   'random.shuffle([])',\n",
       "   'random.shuffle([])',\n",
       "   'random.shuffle([])',\n",
       "   'random.shuffle([])',\n",
       "   'random.shuffle([])',\n",
       "   'random.shuffle([])',\n",
       "   'random.shuffle([])'],\n",
       "  'probe_answers_correct': ['No, the response contains a function call that shuffles an empty list `[]` in place, which does not demonstrate how to shuffle the elements of a given list. The question asks how to shuffle the elements of a list in place, so the function should be called on a list variable or a non-empty list, e.g., `random.shuffle(my_list)`. Using an empty list does not illustrate the intended usage.',\n",
       "   'No, the response contains a function call that shuffles an empty list `[]` in place, which does not demonstrate how to shuffle the elements of a given list. The question asks how to shuffle the elements of a list in place, so the function should be called on a list variable or a non-empty list, e.g., `random.shuffle(my_list)`. Using an empty list does not illustrate the intended usage.',\n",
       "   'No, the response contains a function call that shuffles an empty list `[]` in place, which does not demonstrate how to shuffle the elements of a given list. The question asks how to shuffle the elements of a list in place, so the function should be called on a list variable or a non-empty list, e.g., `random.shuffle(my_list)`. Using an empty list does not illustrate the intended usage.',\n",
       "   'No, the response contains a function call that shuffles an empty list `[]` in place, which does not demonstrate how to shuffle the elements of a given list. The question asks how to shuffle the elements of a list in place, so the function should be called on a list variable or a non-empty list, e.g., `random.shuffle(my_list)`. Using an empty list does not illustrate the intended usage.',\n",
       "   'No, the response contains a function call that shuffles an empty list `[]` in place, which does not demonstrate how to shuffle the elements of a given list. The question asks how to shuffle the elements of a list in place, so the function should be called on a list variable or a non-empty list, e.g., `random.shuffle(my_list)`. Using an empty list does not illustrate the intended usage.',\n",
       "   'No, the response contains a function call that shuffles an empty list `[]` in place, which does not demonstrate how to shuffle the elements of a given list. The question asks how to shuffle the elements of a list in place, so the function should be called on a list variable or a non-empty list, e.g., `random.shuffle(my_list)`. Using an empty list does not illustrate the intended usage.',\n",
       "   'No, the response contains a function call that shuffles an empty list `[]` in place, which does not demonstrate how to shuffle the elements of a given list. The question asks how to shuffle the elements of a list in place, so the function should be called on a list variable or a non-empty list, e.g., `random.shuffle(my_list)`. Using an empty list does not illustrate the intended usage.',\n",
       "   'No, the response contains a function call that shuffles an empty list `[]` in place, which does not demonstrate how to shuffle the elements of a given list. The question asks how to shuffle the elements of a list in place, so the function should be called on a list variable or a non-empty list, e.g., `random.shuffle(my_list)`. Using an empty list does not illustrate the intended usage.',\n",
       "   'No, the response contains a function call that shuffles an empty list `[]` in place, which does not demonstrate how to shuffle the elements of a given list. The question asks how to shuffle the elements of a list in place, so the function should be called on a list variable or a non-empty list, e.g., `random.shuffle(my_list)`. Using an empty list does not illustrate the intended usage.',\n",
       "   'No, the response contains a function call that shuffles an empty list `[]` in place, which does not demonstrate how to shuffle the elements of a given list. The question asks how to shuffle the elements of a list in place, so the function should be called on a list variable or a non-empty list, e.g., `random.shuffle(my_list)`. Using an empty list does not illustrate the intended usage.'],\n",
       "  'knowledge_confidence': 0.0,\n",
       "  'majority_answer': 'random.shuffle([])',\n",
       "  'majority_answer_correct': False,\n",
       "  'majority_answer_confidence': 1.0}}"
      ]
     },
     "execution_count": 3,
     "metadata": {},
     "output_type": "execute_result"
    }
   ],
   "source": [
    "data[1]"
   ]
  },
  {
   "cell_type": "code",
   "execution_count": null,
   "id": "989b90f9",
   "metadata": {},
   "outputs": [],
   "source": []
  }
 ],
 "metadata": {
  "kernelspec": {
   "display_name": "Python 3",
   "language": "python",
   "name": "python3"
  },
  "language_info": {
   "codemirror_mode": {
    "name": "ipython",
    "version": 3
   },
   "file_extension": ".py",
   "mimetype": "text/x-python",
   "name": "python",
   "nbconvert_exporter": "python",
   "pygments_lexer": "ipython3",
   "version": "3.12.9"
  }
 },
 "nbformat": 4,
 "nbformat_minor": 5
}
