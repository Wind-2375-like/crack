{
 "cells": [
  {
   "cell_type": "code",
   "execution_count": 1,
   "id": "1433dcbe",
   "metadata": {},
   "outputs": [],
   "source": [
    "import pickle\n",
    "\n",
    "with open('../data/eval_results/code/probe/test_100_depth_4_llama-3.2-1b.pkl', 'rb') as f:\n",
    "    data = pickle.load(f)"
   ]
  },
  {
   "cell_type": "code",
   "execution_count": 2,
   "id": "cb4c653b",
   "metadata": {},
   "outputs": [
    {
     "data": {
      "text/plain": [
       "{'id': 1,\n",
       " 'question': 'Given the library random, how can we randomly shuffle the elements of a list in place?',\n",
       " 'answer': 'random.shuffle(x)',\n",
       " 'knowledge': 'Function: random.shuffle(x)\\n\\nDocstring: Shuffle list x in place, and return None.',\n",
       " 'complex_question_id': 0,\n",
       " 'probe_answers': ['```python\\nimport random\\nrandom.shuffle([1, 2, 3, 4, 5])\\n```',\n",
       "  '```python\\nimport random\\n\\nrandom.shuffle([1, 2, 3, 4, 5])\\n```',\n",
       "  '```python\\nimport random\\nrandom.shuffle(my_list)\\n```',\n",
       "  '```python\\nimport random\\nrandom.shuffle(lst)\\n```',\n",
       "  '```python\\nimport random\\n\\nrandom.shuffle(lst)\\n```',\n",
       "  '```python\\nimport random\\nrandom.shuffle(list)\\n```',\n",
       "  '```python\\nimport random\\nrandom.shuffle(my_list)\\n```',\n",
       "  '```python\\nimport random\\n\\nrandom.shuffle(my_list)\\n```',\n",
       "  '```python\\nimport random\\n\\ndef random_shuffle(lst):\\n    random.shuffle(lst)\\n```',\n",
       "  '```python\\nimport random\\nrandom.shuffle(my_list)\\n```']}"
      ]
     },
     "execution_count": 2,
     "metadata": {},
     "output_type": "execute_result"
    }
   ],
   "source": [
    "data[1]"
   ]
  },
  {
   "cell_type": "code",
   "execution_count": null,
   "id": "989b90f9",
   "metadata": {},
   "outputs": [],
   "source": []
  }
 ],
 "metadata": {
  "kernelspec": {
   "display_name": "Python 3",
   "language": "python",
   "name": "python3"
  },
  "language_info": {
   "codemirror_mode": {
    "name": "ipython",
    "version": 3
   },
   "file_extension": ".py",
   "mimetype": "text/x-python",
   "name": "python",
   "nbconvert_exporter": "python",
   "pygments_lexer": "ipython3",
   "version": "3.12.9"
  }
 },
 "nbformat": 4,
 "nbformat_minor": 5
}
