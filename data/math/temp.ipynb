{
 "cells": [
  {
   "cell_type": "code",
   "execution_count": 6,
   "metadata": {},
   "outputs": [
    {
     "name": "stdout",
     "output_type": "stream",
     "text": [
      "{'probe_questions': [{'knowledge': 'In an isosceles triangle, the altitude from the apex (the vertex between the equal sides) to the base is perpendicular to the base and bisects the base, hitting it at its midpoint.', 'question': 'In an isosceles triangle, what property does the altitude from the apex to the base have with respect to the base?', 'answer': 'The altitude is perpendicular to the base and bisects it, hitting it at its midpoint.'}, {'knowledge': 'In a right triangle with hypotenuse 5 and one leg 3, the other leg has length 4 because 5^2 - 3^2 = 25 - 9 = 16 and sqrt(16) = 4.', 'question': 'In a right triangle with hypotenuse 5 and one leg 3, what is the length of the other leg?', 'answer': '4.'}, {'knowledge': 'The area of a right triangle equals one half the product of its two legs, so a right triangle with legs 3 and 4 has area (1/2) * 3 * 4 = 6 square units.', 'question': 'What is the area of a right triangle whose legs measure 3 and 4 units?', 'answer': '6 square units.'}, {'knowledge': 'The area of a figure partitioned into two congruent regions equals the sum of the areas of those regions, so two congruent right triangles each of area 6 have a combined area of 12 square units.', 'question': 'If a triangle is partitioned into two congruent triangles each with area 6 square units, what is the total area of the original triangle?', 'answer': '12 square units.'}], 'multihop_question': 'What is the number of square units in the area of a triangle whose sides measure 5, 5 and 6 units? To solve this problem, you must show detailed step-by-step calculations without skipping any steps. Your solution should focus on split the isosceles triangle into two congruent right triangles, apply the Pythagorean theorem, and use the right-triangle area formula.', 'multihop_answer': '12', 'other_metadata': {'idx': '', 'original_question': 'What is the number of square units in the area of a triangle whose sides measure 5, 5 and 6 units?'}}\n"
     ]
    }
   ],
   "source": [
    "# import pandas as pd\n",
    "\n",
    "# data = pd.read_pickle('base_500_gpt-4.1-mini_1_patched.pkl')\n",
    "\n",
    "# i = 0\n",
    "# for d in data:\n",
    "#     if not d['final_answer_correct']:\n",
    "#         i += 1\n",
    "#         print(d)\n",
    "#         if i >= 10: break\n",
    "        \n",
    "# print(i)\n",
    "\n",
    "import pandas as pd\n",
    "\n",
    "data_1 = pd.read_pickle('../eval_results/math/probe_evaluated/test_500_llama-3.2-11b.pkl')\n",
    "data_2 = pd.read_pickle('test_500.pkl')\n",
    "# for d in data_1:\n",
    "#     if d['knowledge_confidence'] == 0 and len(d['question']) < 100 and len(data_2[d['complex_question_id']]['probe_questions']) <= 4:\n",
    "#         print(d)\n",
    "        \n",
    "print(data_2[44])"
   ]
  }
 ],
 "metadata": {
  "kernelspec": {
   "display_name": "crack",
   "language": "python",
   "name": "python3"
  },
  "language_info": {
   "codemirror_mode": {
    "name": "ipython",
    "version": 3
   },
   "file_extension": ".py",
   "mimetype": "text/x-python",
   "name": "python",
   "nbconvert_exporter": "python",
   "pygments_lexer": "ipython3",
   "version": "3.12.11"
  }
 },
 "nbformat": 4,
 "nbformat_minor": 2
}
