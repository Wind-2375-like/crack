{
 "cells": [
  {
   "cell_type": "code",
   "execution_count": 2,
   "metadata": {},
   "outputs": [
    {
     "data": {
      "text/plain": [
       "{'probe_questions': [{'knowledge': 'If in each grade 300 males and 300 females are surveyed, then comparing the number of male bus riders to 135% of the number of female bus riders is equivalent to comparing the male percentage to 135% of the female percentage because counts are proportional to percentages with the same sample sizes.',\n",
       "   'question': 'If each grade has 300 males and 300 females surveyed, why does comparing the number of male bus riders to 135% of the number of female bus riders reduce to comparing the male percentage to 135% of the female percentage?',\n",
       "   'answer': 'Because equal sample sizes make counts proportional to percentages, so scaling by the same sample size does not change the comparison.'},\n",
       "  {'knowledge': 'To compute 135% of a given percentage value, multiply that percentage value by 1.35.',\n",
       "   'question': 'How do you compute 135% of a given percentage value?',\n",
       "   'answer': 'Multiply the percentage value by 1.35.'},\n",
       "  {'knowledge': 'One hundred thirty-five percent of 39.4% equals 53.19%.',\n",
       "   'question': 'What is 135% of 39.4%?',\n",
       "   'answer': '53.19%.'},\n",
       "  {'knowledge': 'One hundred thirty-five percent of 33.1% equals 44.685%.',\n",
       "   'question': 'What is 135% of 33.1%?',\n",
       "   'answer': '44.685%.'},\n",
       "  {'knowledge': 'One hundred thirty-five percent of 13.8% equals 18.63%.',\n",
       "   'question': 'What is 135% of 13.8%?',\n",
       "   'answer': '18.63%.'},\n",
       "  {'knowledge': 'One hundred thirty-five percent of 8.6% equals 11.61%.',\n",
       "   'question': 'What is 135% of 8.6%?',\n",
       "   'answer': '11.61%.'},\n",
       "  {'knowledge': 'The absolute difference between 41.1% (male, 9th) and 53.19% (135% of female, 9th) is 12.09 percentage points.',\n",
       "   'question': 'What is the absolute difference between 41.1% and 53.19%?',\n",
       "   'answer': '12.09%.'},\n",
       "  {'knowledge': 'The absolute difference between 34.4% (male, 10th) and 44.685% (135% of female, 10th) is 10.285 percentage points.',\n",
       "   'question': 'What is the absolute difference between 34.4% and 44.685%?',\n",
       "   'answer': '10.285%.'},\n",
       "  {'knowledge': 'The absolute difference between 20.6% (male, 11th) and 18.63% (135% of female, 11th) is 1.97 percentage points.',\n",
       "   'question': 'What is the absolute difference between 20.6% and 18.63%?',\n",
       "   'answer': '1.97%.'},\n",
       "  {'knowledge': 'The absolute difference between 11.6% (male, 12th) and 11.61% (135% of female, 12th) is 0.01 percentage point.',\n",
       "   'question': 'What is the absolute difference between 11.6% and 11.61%?',\n",
       "   'answer': '0.01%.'}],\n",
       " 'multihop_question': 'The data in the table below shows the percent of bus riders in a survey of Central H.S. students; 300 males and 300 females in each grade were surveyed. For which grade is the number of its male bus riders closest to $135\\\\%$ of the number of its female bus riders? \\\\begin{tabular}{|l|c|c|}\\\\hline\\nGrade & Males & Females \\\\\\\\ \\\\hline\\n$9^{\\\\mathrm{th}}$ grade & $41.1\\\\%$ & $39.4\\\\%$ \\\\\\\\ \\\\hline\\n$10^{\\\\mathrm{th}}$ grade & $34.4\\\\%$ & $33.1\\\\%$ \\\\\\\\ \\\\hline\\n$11^{\\\\mathrm{th}}$ grade & $20.6\\\\%$ & $13.8\\\\%$ \\\\\\\\ \\\\hline\\n$12^{\\\\mathrm{th}}$ grade & $11.6\\\\%$ & $8.6\\\\%$ \\\\\\\\ \\\\hline\\n\\\\end{tabular} To solve this problem, you must show detailed step-by-step calculations without skipping any steps. Your solution should focus on proportional reasoning: scaling percentages by 1.35 (scalar multiplication) and comparing them via absolute differences.',\n",
       " 'multihop_answer': '12',\n",
       " 'other_metadata': {'idx': '',\n",
       "  'original_question': 'The data in the table below shows the percent of bus riders in a survey of Central H.S. students; 300 males and 300 females in each grade were surveyed. For which grade is the number of its male bus riders closest to $135\\\\%$ of the number of its female bus riders? \\\\begin{tabular}{|l|c|c|}\\\\hline\\nGrade & Males & Females \\\\\\\\ \\\\hline\\n$9^{\\\\mathrm{th}}$ grade & $41.1\\\\%$ & $39.4\\\\%$ \\\\\\\\ \\\\hline\\n$10^{\\\\mathrm{th}}$ grade & $34.4\\\\%$ & $33.1\\\\%$ \\\\\\\\ \\\\hline\\n$11^{\\\\mathrm{th}}$ grade & $20.6\\\\%$ & $13.8\\\\%$ \\\\\\\\ \\\\hline\\n$12^{\\\\mathrm{th}}$ grade & $11.6\\\\%$ & $8.6\\\\%$ \\\\\\\\ \\\\hline\\n\\\\end{tabular}'}}"
      ]
     },
     "execution_count": 2,
     "metadata": {},
     "output_type": "execute_result"
    }
   ],
   "source": [
    "# import pandas as pd\n",
    "\n",
    "# data = pd.read_pickle('base_500_gpt-4.1-mini_1_patched.pkl')\n",
    "\n",
    "# i = 0\n",
    "# for d in data:\n",
    "#     if not d['final_answer_correct']:\n",
    "#         i += 1\n",
    "#         print(d)\n",
    "#         if i >= 10: break\n",
    "        \n",
    "# print(i)\n",
    "\n",
    "import pandas as pd\n",
    "\n",
    "data_1 = pd.read_pickle('../eval_results/math/probe_evaluated/test_500_llama-3.2-11b.pkl')\n",
    "data_2 = pd.read_pickle('test_500.pkl')\n",
    "data_2[2]"
   ]
  }
 ],
 "metadata": {
  "kernelspec": {
   "display_name": "crack",
   "language": "python",
   "name": "python3"
  },
  "language_info": {
   "codemirror_mode": {
    "name": "ipython",
    "version": 3
   },
   "file_extension": ".py",
   "mimetype": "text/x-python",
   "name": "python",
   "nbconvert_exporter": "python",
   "pygments_lexer": "ipython3",
   "version": "3.12.11"
  }
 },
 "nbformat": 4,
 "nbformat_minor": 2
}
